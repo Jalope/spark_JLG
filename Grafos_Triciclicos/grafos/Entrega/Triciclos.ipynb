{
 "cells": [
  {
   "cell_type": "markdown",
   "metadata": {},
   "source": [
    "Importamos los módulos necesarios: \n",
    "networkx -> Para trabajar con grafos en python y poder visualizarlos\n",
    "pyspark -> Para poder trabajar con rdds "
   ]
  },
  {
   "cell_type": "code",
   "execution_count": 3,
   "metadata": {},
   "outputs": [
    {
     "name": "stderr",
     "output_type": "stream",
     "text": [
      "22/04/28 10:05:42 WARN Utils: Your hostname, gispi-ThinkPad-L380 resolves to a loopback address: 127.0.1.1; using 192.168.0.20 instead (on interface enxa0cec8f5b962)\n",
      "22/04/28 10:05:42 WARN Utils: Set SPARK_LOCAL_IP if you need to bind to another address\n",
      "WARNING: An illegal reflective access operation has occurred\n",
      "WARNING: Illegal reflective access by org.apache.spark.unsafe.Platform (file:/usr/local/lib/python3.8/dist-packages/pyspark/jars/spark-unsafe_2.12-3.2.1.jar) to constructor java.nio.DirectByteBuffer(long,int)\n",
      "WARNING: Please consider reporting this to the maintainers of org.apache.spark.unsafe.Platform\n",
      "WARNING: Use --illegal-access=warn to enable warnings of further illegal reflective access operations\n",
      "WARNING: All illegal access operations will be denied in a future release\n",
      "Using Spark's default log4j profile: org/apache/spark/log4j-defaults.properties\n",
      "Setting default log level to \"WARN\".\n",
      "To adjust logging level use sc.setLogLevel(newLevel). For SparkR, use setLogLevel(newLevel).\n",
      "22/04/28 10:05:42 WARN NativeCodeLoader: Unable to load native-hadoop library for your platform... using builtin-java classes where applicable\n",
      "22/04/28 10:05:43 WARN Utils: Service 'SparkUI' could not bind on port 4040. Attempting port 4041.\n",
      "22/04/28 10:05:43 WARN Utils: Service 'SparkUI' could not bind on port 4041. Attempting port 4042.\n"
     ]
    }
   ],
   "source": [
    "import networkx as nx\n",
    "from tabulate import tabulate\n",
    "from networkx.drawing.nx_pylab import draw\n",
    "from pyspark import SparkContext\n",
    "sc = SparkContext()"
   ]
  },
  {
   "cell_type": "markdown",
   "metadata": {},
   "source": [
    "Extrae un grafo del txt para poder dibujarlo"
   ]
  },
  {
   "cell_type": "code",
   "execution_count": 6,
   "metadata": {},
   "outputs": [],
   "source": [
    "def read_graph(filename):\n",
    "    graph = nx.Graph()\n",
    "    with open(filename) as f:\n",
    "        for line in f:\n",
    "            graph.add_edge(*line.strip().split(','))\n",
    "    return graph"
   ]
  },
  {
   "cell_type": "code",
   "execution_count": 5,
   "metadata": {},
   "outputs": [
    {
     "data": {
      "image/png": "[encoded data removed]",
      "text/plain": [
       "<Figure size 432x288 with 1 Axes>"
      ]
     },
     "metadata": {},
     "output_type": "display_data"
    }
   ],
   "source": [
    "g = read_graph(\"g.txt\")\n",
    "draw(g, with_labels=True)"
   ]
  },
  {
   "cell_type": "markdown",
   "metadata": {},
   "source": [
    "Construimos la lista de adyacencia considerando sólo los nodos posteriores"
   ]
  },
  {
   "cell_type": "code",
   "execution_count": 5,
   "metadata": {},
   "outputs": [],
   "source": [
    "def get_edges(line): # grafo no dirigido, sin bucles.\n",
    "    edge = line.strip().split(',')\n",
    "    n1 = edge[0]\n",
    "    n2 = edge[1]\n",
    "    if n1 < n2:\n",
    "         return (n1,n2)\n",
    "    elif n1 > n2:\n",
    "         return (n2,n1)\n",
    "    else:\n",
    "        pass #n1 == n2\n",
    "\n",
    "def get_rdd_distict_edges(sc, filename):\n",
    "    return sc.textFile(filename).\\\n",
    "        map(get_edges).\\\n",
    "        filter(lambda x: x is not None).\\\n",
    "        distinct()\n",
    "\n",
    "def adjacents(sc, filename):\n",
    "    nodes = get_rdd_distict_edges(sc, filename)\n",
    "    adj = nodes.groupByKey().collect()\n",
    "    print(adj)\n",
    "    for node in adj:\n",
    "        print(node[0], list(node[1]))"
   ]
  },
  {
   "cell_type": "code",
   "execution_count": 12,
   "metadata": {},
   "outputs": [
    {
     "name": "stdout",
     "output_type": "stream",
     "text": [
      "[('A', <pyspark.resultiterable.ResultIterable object at 0x7fdc7c50fe50>), ('D', <pyspark.resultiterable.ResultIterable object at 0x7fdc7d205cd0>), ('B', <pyspark.resultiterable.ResultIterable object at 0x7fdc7d205ac0>)]\n",
      "A ['B', 'D', 'F', 'C']\n",
      "D ['F']\n",
      "B ['C']\n"
     ]
    }
   ],
   "source": [
    "adjacents(sc,\"g.txt\")"
   ]
  },
  {
   "cell_type": "code",
   "execution_count": 4,
   "metadata": {},
   "outputs": [],
   "source": [
    "def adjacents_p(sc, filename):\n",
    "    nodes = get_rdd_distict_edges(sc, filename)\n",
    "    adj = nodes.groupByKey().collect()\n",
    "    print(adj)\n",
    "    lista = []\n",
    "    for node in adj:\n",
    "        #lista.append((node[0], list(node[1])))\n",
    "        for element in list(node[1]): \n",
    "            lista.append(((node[0],element), \"exists\"))\n",
    "    ordenados = sorted(lista, key = lambda arista : arista[0])\n",
    "    #print(lista)\n",
    "    print(tabulate(ordenados, headers=[\"Arista\", \"Estado\"]))\n",
    "    "
   ]
  },
  {
   "cell_type": "code",
   "execution_count": 7,
   "metadata": {},
   "outputs": [
    {
     "name": "stderr",
     "output_type": "stream",
     "text": [
      "[Stage 0:>                                                          (0 + 2) / 2]\r"
     ]
    },
    {
     "name": "stdout",
     "output_type": "stream",
     "text": [
      "[('A', <pyspark.resultiterable.ResultIterable object at 0x7f938c10a850>), ('D', <pyspark.resultiterable.ResultIterable object at 0x7f938c10a7f0>), ('B', <pyspark.resultiterable.ResultIterable object at 0x7f938c10a8e0>)]\n",
      "Arista      Estado\n",
      "----------  --------\n",
      "('A', 'B')  exists\n",
      "('A', 'C')  exists\n",
      "('A', 'D')  exists\n",
      "('A', 'F')  exists\n",
      "('B', 'C')  exists\n",
      "('D', 'F')  exists\n"
     ]
    },
    {
     "name": "stderr",
     "output_type": "stream",
     "text": [
      "                                                                                \r"
     ]
    }
   ],
   "source": [
    "adjacents_p(sc, \"g.txt\")"
   ]
  },
  {
   "cell_type": "markdown",
   "metadata": {},
   "source": []
  },
  {
   "cell_type": "markdown",
   "metadata": {},
   "source": []
  }
 ],
 "metadata": {
  "interpreter": {
   "hash": "916dbcbb3f70747c44a77c7bcd40155683ae19c65e1c03b4aa3499c5328201f1"
  },
  "kernelspec": {
   "display_name": "Python 3.8.10 64-bit",
   "language": "python",
   "name": "python3"
  },
  "language_info": {
   "codemirror_mode": {
    "name": "ipython",
    "version": 3
   },
   "file_extension": ".py",
   "mimetype": "text/x-python",
   "name": "python",
   "nbconvert_exporter": "python",
   "pygments_lexer": "ipython3",
   "version": "3.8.10"
  },
  "orig_nbformat": 4
 },
 "nbformat": 4,
 "nbformat_minor": 2
}
